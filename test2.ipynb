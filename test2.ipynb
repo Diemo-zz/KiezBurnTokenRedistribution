{
 "cells": [
  {
   "cell_type": "code",
   "execution_count": 2,
   "metadata": {
    "collapsed": true
   },
   "outputs": [],
   "source": [
    "import pandas as pd\n",
    "df = pd.read_csv('df2_19_04.csv')"
   ]
  },
  {
   "cell_type": "code",
   "execution_count": 12,
   "outputs": [
    {
     "name": "stdout",
     "output_type": "stream",
     "text": [
      "Harlot Hall 1380.0 500.0\n",
      "Dance to a different beat - Musotopia is back! 1422.0 400.0\n",
      "Trippy Hippie Tipi Town 710.0 0.0\n",
      "Dreamcatcher 480.0 0.0\n",
      "STARFUCKS Coffee 0.0 0.0\n",
      "Paint a Hippie-Van 155.0 0.0\n",
      "Radical Self-Reliant Disco 98.0 0.0\n",
      "The Glade of The Fates 528.0 45.0\n",
      "The Pile of Dirt 0.0 0.0\n",
      "Acid Späti 1224.0 520.0\n",
      "Eggify (Effigy) 1000.0 0.0\n",
      "Prost Office! 420.0 0.0\n",
      "Tubular Bells Instalation 553.0 0.0\n",
      "The Observatory's Planetarium 1480.0 0.0\n",
      "White Flower Red - Totem and Taboo 505.0 60.0\n",
      "Intro to Lei Making and Hula 105.0 5.0\n",
      "The Temple of Transmutation 1983.0 400.0\n",
      "Sub Retreat 630.0 0.0\n",
      "Saunacious Dream Spa 580.0 0.0\n",
      "test 0.0 0.0\n",
      "Crazy Tea Party 500.0 0.0\n",
      "UNDERWORLD STAGE 2500.0 1000.0\n",
      "Kinetic Sun 500.0 0.0\n",
      "Yearbook: Kieze of 22 136.0 0.0\n",
      "Wall of Ethereal Images 800.0 0.0\n",
      "jazzy jazz bar 0.0 0.0\n",
      "Tesseract 480.0 0.0\n",
      "The Dankmal 210.0 0.0\n",
      "Everything we touch, could transform 0.0 0.0\n",
      "Visualizing Mindfullness 350.0 150.0\n",
      "Burn Olympics 320.0 40.0\n",
      "The mutant obstacle maze 1230.0 0.0\n",
      "UNDERWORLD FLOOR 1700.0 200.0\n",
      "The Tiniest Club in the Land 55.0 15.0\n",
      "How-To-Get-A-Drink-At-A-Bar University EXPANDED 1650.0 581.0\n",
      "yalla yalla Swing 315.0 0.0\n",
      "Maxi the Costume Upcycling Mobile 250.0 0.0\n",
      "Mandy's dream 0.0 0.0\n",
      "Ginormous Twister 140.0 0.0\n",
      "A giant slippery water slide coming out of juicy lips 320.0 0.0\n",
      "Mr Meeseeks for you! 300.0 0.0\n",
      "Kiezkita 100.0 0.0\n",
      "Stars on the Plateau 1680.0 0.0\n",
      "Kiez Psychedelic Sweatlodge 400.0 0.0\n",
      "Glowdome 11600.0 10400.0\n",
      "Bamboo dome 500.0 0.0\n",
      "The Promethean Arena 1300.0 600.0\n",
      "♊︎ 0.0 1.0\n",
      "Silent-Disco: more music, less noise! 2770.0 2200.0\n",
      "Ducky Playground 1740.0 1500.0\n",
      "The Promethean Dome 1110.0 530.0\n",
      "\"Full Moon Kino\" Magical Cinema 1565.0 800.0\n",
      "Crush and Create! 228.0 0.0\n",
      "The Trippy Bike 42.0 12.0\n",
      "Intimacy Kiez Play/workshop Space 828.0 0.0\n"
     ]
    }
   ],
   "source": [
    "for index, row in df.iterrows():\n",
    "    print(row.get('name'), row.get('minimum_budget'), row.get('preexisting_funding'))"
   ],
   "metadata": {
    "collapsed": false,
    "pycharm": {
     "name": "#%%\n"
    }
   }
  }
 ],
 "metadata": {
  "kernelspec": {
   "display_name": "Python 3",
   "language": "python",
   "name": "python3"
  },
  "language_info": {
   "codemirror_mode": {
    "name": "ipython",
    "version": 2
   },
   "file_extension": ".py",
   "mimetype": "text/x-python",
   "name": "python",
   "nbconvert_exporter": "python",
   "pygments_lexer": "ipython2",
   "version": "2.7.6"
  }
 },
 "nbformat": 4,
 "nbformat_minor": 0
}